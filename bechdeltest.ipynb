{
 "cells": [
  {
   "cell_type": "code",
   "execution_count": 3,
   "id": "ae71aeaa-ddd5-421f-ac36-b8e0087975ba",
   "metadata": {},
   "outputs": [],
   "source": [
    "import urllib, json\n",
    "import pandas as pd\n",
    "df = pd.read_json(\"https://bechdeltest.com/api/v1/getAllMovies\")"
   ]
  },
  {
   "cell_type": "code",
   "execution_count": 4,
   "id": "df3642cb-9086-4f9c-a403-9feec9ef9fc9",
   "metadata": {},
   "outputs": [
    {
     "data": {
      "text/html": [
       "<div>\n",
       "<style scoped>\n",
       "    .dataframe tbody tr th:only-of-type {\n",
       "        vertical-align: middle;\n",
       "    }\n",
       "\n",
       "    .dataframe tbody tr th {\n",
       "        vertical-align: top;\n",
       "    }\n",
       "\n",
       "    .dataframe thead th {\n",
       "        text-align: right;\n",
       "    }\n",
       "</style>\n",
       "<table border=\"1\" class=\"dataframe\">\n",
       "  <thead>\n",
       "    <tr style=\"text-align: right;\">\n",
       "      <th></th>\n",
       "      <th>year</th>\n",
       "      <th>title</th>\n",
       "      <th>id</th>\n",
       "      <th>imdbid</th>\n",
       "      <th>rating</th>\n",
       "    </tr>\n",
       "  </thead>\n",
       "  <tbody>\n",
       "    <tr>\n",
       "      <th>0</th>\n",
       "      <td>1874</td>\n",
       "      <td>Passage de Venus</td>\n",
       "      <td>9602</td>\n",
       "      <td>3155794</td>\n",
       "      <td>0</td>\n",
       "    </tr>\n",
       "    <tr>\n",
       "      <th>1</th>\n",
       "      <td>1877</td>\n",
       "      <td>La Rosace Magique</td>\n",
       "      <td>9804</td>\n",
       "      <td>14495706</td>\n",
       "      <td>0</td>\n",
       "    </tr>\n",
       "    <tr>\n",
       "      <th>2</th>\n",
       "      <td>1878</td>\n",
       "      <td>Sallie Gardner at a Gallop</td>\n",
       "      <td>9603</td>\n",
       "      <td>2221420</td>\n",
       "      <td>0</td>\n",
       "    </tr>\n",
       "    <tr>\n",
       "      <th>3</th>\n",
       "      <td>1878</td>\n",
       "      <td>Le singe musicien</td>\n",
       "      <td>9806</td>\n",
       "      <td>12592084</td>\n",
       "      <td>0</td>\n",
       "    </tr>\n",
       "    <tr>\n",
       "      <th>4</th>\n",
       "      <td>1881</td>\n",
       "      <td>Athlete Swinging a Pick</td>\n",
       "      <td>9816</td>\n",
       "      <td>7816420</td>\n",
       "      <td>0</td>\n",
       "    </tr>\n",
       "  </tbody>\n",
       "</table>\n",
       "</div>"
      ],
      "text/plain": [
       "   year                       title    id    imdbid  rating\n",
       "0  1874            Passage de Venus  9602   3155794       0\n",
       "1  1877           La Rosace Magique  9804  14495706       0\n",
       "2  1878  Sallie Gardner at a Gallop  9603   2221420       0\n",
       "3  1878           Le singe musicien  9806  12592084       0\n",
       "4  1881     Athlete Swinging a Pick  9816   7816420       0"
      ]
     },
     "execution_count": 4,
     "metadata": {},
     "output_type": "execute_result"
    }
   ],
   "source": [
    "df.head()"
   ]
  },
  {
   "cell_type": "code",
   "execution_count": 6,
   "id": "033b27d7-ce75-4ab2-9d85-faea78844855",
   "metadata": {},
   "outputs": [
    {
     "data": {
      "text/plain": [
       "year      10289\n",
       "title     10289\n",
       "id        10289\n",
       "imdbid    10289\n",
       "rating    10289\n",
       "dtype: int64"
      ]
     },
     "execution_count": 6,
     "metadata": {},
     "output_type": "execute_result"
    }
   ],
   "source": [
    "df.count()"
   ]
  },
  {
   "cell_type": "code",
   "execution_count": 9,
   "id": "eff2b1bb-2659-4cd3-a621-f0510fc833c3",
   "metadata": {},
   "outputs": [
    {
     "data": {
      "text/html": [
       "<a href='bechdeltestscore.csv' target='_blank'>bechdeltestscore.csv</a><br>"
      ],
      "text/plain": [
       "C:\\Users\\ishaq hussain\\bechdeltestscore.csv"
      ]
     },
     "execution_count": 9,
     "metadata": {},
     "output_type": "execute_result"
    }
   ],
   "source": [
    "df.to_csv('bechdeltestscore.csv')\n",
    "from IPython.display import FileLink\n",
    "FileLink('bechdeltestscore.csv')"
   ]
  },
  {
   "cell_type": "code",
   "execution_count": 28,
   "id": "94315e98-6e7a-43e8-a0e1-8899315f08df",
   "metadata": {},
   "outputs": [
    {
     "data": {
      "text/html": [
       "<a href='benchdeltest.csv' target='_blank'>benchdeltest.csv</a><br>"
      ],
      "text/plain": [
       "C:\\Users\\ishaq hussain\\benchdeltest.csv"
      ]
     },
     "execution_count": 28,
     "metadata": {},
     "output_type": "execute_result"
    }
   ],
   "source": [
    "FileLink('benchdeltest.csv')"
   ]
  },
  {
   "cell_type": "code",
   "execution_count": 2,
   "id": "1bd87a7b-5fa1-4c4d-8cdc-76a4c30e9d2e",
   "metadata": {},
   "outputs": [
    {
     "name": "stdout",
     "output_type": "stream",
     "text": [
      "Collecting gender-guesser\n",
      "  Downloading gender_guesser-0.4.0-py2.py3-none-any.whl.metadata (3.0 kB)\n",
      "Downloading gender_guesser-0.4.0-py2.py3-none-any.whl (379 kB)\n",
      "   ---------------------------------------- 0.0/379.3 kB ? eta -:--:--\n",
      "   -- ------------------------------------ 20.5/379.3 kB 330.3 kB/s eta 0:00:02\n",
      "   ---- ---------------------------------- 41.0/379.3 kB 495.5 kB/s eta 0:00:01\n",
      "   ------------ ------------------------- 122.9/379.3 kB 901.1 kB/s eta 0:00:01\n",
      "   ------------------- -------------------- 184.3/379.3 kB 1.1 MB/s eta 0:00:01\n",
      "   ------------------------------ --------- 286.7/379.3 kB 1.4 MB/s eta 0:00:01\n",
      "   ---------------------------------------- 379.3/379.3 kB 1.5 MB/s eta 0:00:00\n",
      "Installing collected packages: gender-guesser\n",
      "Successfully installed gender-guesser-0.4.0\n"
     ]
    }
   ],
   "source": [
    "!pip install gender-guesser\n"
   ]
  },
  {
   "cell_type": "code",
   "execution_count": 4,
   "id": "e55929fd-6100-4c22-8b8d-6506a7a61188",
   "metadata": {},
   "outputs": [],
   "source": [
    "import pandas as pd\n",
    "import gender_guesser.detector as gen\n",
    "dfLatest = pd.read_csv('C:/Users/ishaq hussain/Downloads/gender.csv',encoding = \"latin\")"
   ]
  },
  {
   "cell_type": "code",
   "execution_count": 55,
   "id": "46315167-6e67-4bf5-aebf-de9a5a933a99",
   "metadata": {},
   "outputs": [
    {
     "data": {
      "text/html": [
       "<div>\n",
       "<style scoped>\n",
       "    .dataframe tbody tr th:only-of-type {\n",
       "        vertical-align: middle;\n",
       "    }\n",
       "\n",
       "    .dataframe tbody tr th {\n",
       "        vertical-align: top;\n",
       "    }\n",
       "\n",
       "    .dataframe thead th {\n",
       "        text-align: right;\n",
       "    }\n",
       "</style>\n",
       "<table border=\"1\" class=\"dataframe\">\n",
       "  <thead>\n",
       "    <tr style=\"text-align: right;\">\n",
       "      <th></th>\n",
       "      <th>bechdel score</th>\n",
       "      <th>movie</th>\n",
       "      <th>year</th>\n",
       "      <th>budget</th>\n",
       "      <th>gross</th>\n",
       "      <th>director</th>\n",
       "    </tr>\n",
       "  </thead>\n",
       "  <tbody>\n",
       "    <tr>\n",
       "      <th>0</th>\n",
       "      <td>2</td>\n",
       "      <td>Top Gun</td>\n",
       "      <td>1986</td>\n",
       "      <td>15000000</td>\n",
       "      <td>179800601</td>\n",
       "      <td>Tony Scott</td>\n",
       "    </tr>\n",
       "    <tr>\n",
       "      <th>1</th>\n",
       "      <td>3</td>\n",
       "      <td>Aliens</td>\n",
       "      <td>1986</td>\n",
       "      <td>18500000</td>\n",
       "      <td>85160248</td>\n",
       "      <td>James Cameron</td>\n",
       "    </tr>\n",
       "    <tr>\n",
       "      <th>2</th>\n",
       "      <td>3</td>\n",
       "      <td>Flight of the Navigator</td>\n",
       "      <td>1986</td>\n",
       "      <td>9000000</td>\n",
       "      <td>18564613</td>\n",
       "      <td>Randal Kleiser</td>\n",
       "    </tr>\n",
       "    <tr>\n",
       "      <th>3</th>\n",
       "      <td>0</td>\n",
       "      <td>Platoon</td>\n",
       "      <td>1986</td>\n",
       "      <td>6000000</td>\n",
       "      <td>138530565</td>\n",
       "      <td>Oliver Stone</td>\n",
       "    </tr>\n",
       "    <tr>\n",
       "      <th>4</th>\n",
       "      <td>3</td>\n",
       "      <td>Labyrinth</td>\n",
       "      <td>1986</td>\n",
       "      <td>25000000</td>\n",
       "      <td>12729917</td>\n",
       "      <td>Jim Henson</td>\n",
       "    </tr>\n",
       "  </tbody>\n",
       "</table>\n",
       "</div>"
      ],
      "text/plain": [
       "   bechdel score                   movie   year    budget      gross  \\\n",
       "0              2                  Top Gun  1986  15000000  179800601   \n",
       "1              3                   Aliens  1986  18500000   85160248   \n",
       "2              3  Flight of the Navigator  1986   9000000   18564613   \n",
       "3              0                  Platoon  1986   6000000  138530565   \n",
       "4              3                Labyrinth  1986  25000000   12729917   \n",
       "\n",
       "         director  \n",
       "0      Tony Scott  \n",
       "1   James Cameron  \n",
       "2  Randal Kleiser  \n",
       "3    Oliver Stone  \n",
       "4      Jim Henson  "
      ]
     },
     "execution_count": 55,
     "metadata": {},
     "output_type": "execute_result"
    }
   ],
   "source": [
    "dfLatest.head()"
   ]
  },
  {
   "cell_type": "code",
   "execution_count": 5,
   "id": "b4ab65a8-6c86-4b17-9ff2-4edbea24bfca",
   "metadata": {},
   "outputs": [
    {
     "data": {
      "text/html": [
       "<div>\n",
       "<style scoped>\n",
       "    .dataframe tbody tr th:only-of-type {\n",
       "        vertical-align: middle;\n",
       "    }\n",
       "\n",
       "    .dataframe tbody tr th {\n",
       "        vertical-align: top;\n",
       "    }\n",
       "\n",
       "    .dataframe thead th {\n",
       "        text-align: right;\n",
       "    }\n",
       "</style>\n",
       "<table border=\"1\" class=\"dataframe\">\n",
       "  <thead>\n",
       "    <tr style=\"text-align: right;\">\n",
       "      <th></th>\n",
       "      <th>bechdel score</th>\n",
       "      <th>movie</th>\n",
       "      <th>year</th>\n",
       "      <th>budget</th>\n",
       "      <th>gross</th>\n",
       "      <th>director</th>\n",
       "      <th>gender</th>\n",
       "    </tr>\n",
       "  </thead>\n",
       "  <tbody>\n",
       "    <tr>\n",
       "      <th>0</th>\n",
       "      <td>2</td>\n",
       "      <td>Top Gun</td>\n",
       "      <td>1986</td>\n",
       "      <td>15000000</td>\n",
       "      <td>179800601</td>\n",
       "      <td>Tony Scott</td>\n",
       "      <td>male</td>\n",
       "    </tr>\n",
       "    <tr>\n",
       "      <th>1</th>\n",
       "      <td>3</td>\n",
       "      <td>Aliens</td>\n",
       "      <td>1986</td>\n",
       "      <td>18500000</td>\n",
       "      <td>85160248</td>\n",
       "      <td>James Cameron</td>\n",
       "      <td>male</td>\n",
       "    </tr>\n",
       "    <tr>\n",
       "      <th>2</th>\n",
       "      <td>3</td>\n",
       "      <td>Flight of the Navigator</td>\n",
       "      <td>1986</td>\n",
       "      <td>9000000</td>\n",
       "      <td>18564613</td>\n",
       "      <td>Randal Kleiser</td>\n",
       "      <td>male</td>\n",
       "    </tr>\n",
       "    <tr>\n",
       "      <th>3</th>\n",
       "      <td>0</td>\n",
       "      <td>Platoon</td>\n",
       "      <td>1986</td>\n",
       "      <td>6000000</td>\n",
       "      <td>138530565</td>\n",
       "      <td>Oliver Stone</td>\n",
       "      <td>male</td>\n",
       "    </tr>\n",
       "    <tr>\n",
       "      <th>4</th>\n",
       "      <td>3</td>\n",
       "      <td>Labyrinth</td>\n",
       "      <td>1986</td>\n",
       "      <td>25000000</td>\n",
       "      <td>12729917</td>\n",
       "      <td>Jim Henson</td>\n",
       "      <td>male</td>\n",
       "    </tr>\n",
       "  </tbody>\n",
       "</table>\n",
       "</div>"
      ],
      "text/plain": [
       "   bechdel score                   movie   year    budget      gross  \\\n",
       "0              2                  Top Gun  1986  15000000  179800601   \n",
       "1              3                   Aliens  1986  18500000   85160248   \n",
       "2              3  Flight of the Navigator  1986   9000000   18564613   \n",
       "3              0                  Platoon  1986   6000000  138530565   \n",
       "4              3                Labyrinth  1986  25000000   12729917   \n",
       "\n",
       "         director gender  \n",
       "0      Tony Scott   male  \n",
       "1   James Cameron   male  \n",
       "2  Randal Kleiser   male  \n",
       "3    Oliver Stone   male  \n",
       "4      Jim Henson   male  "
      ]
     },
     "execution_count": 5,
     "metadata": {},
     "output_type": "execute_result"
    }
   ],
   "source": [
    "d = gen.Detector()\n",
    "genders = []\n",
    "firstNames = dfLatest['director'].str.split().str.get(0)\n",
    "for i in firstNames[0:len(firstNames)]:\n",
    "    if d.get_gender(i) == 'male':\n",
    "        genders.append('male')\n",
    "    elif d.get_gender(i) == 'female':\n",
    "        genders.append('female')\n",
    "    else:\n",
    "        genders.append('unknown')\n",
    "dfLatest['gender'] = genders\n",
    "dfLatest.head()"
   ]
  },
  {
   "cell_type": "code",
   "execution_count": null,
   "id": "3df2e09f-8e1d-4d5f-a93d-14c8d28351d0",
   "metadata": {},
   "outputs": [],
   "source": [
    "dfLatest.to_csv('genderfound.csv')\n",
    "from IPython.display import FileLink\n",
    "FileLink('genderfound.csv')"
   ]
  }
 ],
 "metadata": {
  "kernelspec": {
   "display_name": "Python 3 (ipykernel)",
   "language": "python",
   "name": "python3"
  },
  "language_info": {
   "codemirror_mode": {
    "name": "ipython",
    "version": 3
   },
   "file_extension": ".py",
   "mimetype": "text/x-python",
   "name": "python",
   "nbconvert_exporter": "python",
   "pygments_lexer": "ipython3",
   "version": "3.11.7"
  }
 },
 "nbformat": 4,
 "nbformat_minor": 5
}
